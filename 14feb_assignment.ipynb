{
 "cells": [
  {
   "cell_type": "markdown",
   "id": "a40cf6b2-576d-415e-8ae6-31b4735238f3",
   "metadata": {},
   "source": [
    "Q.1"
   ]
  },
  {
   "cell_type": "markdown",
   "id": "34672f1d-fe71-4035-af30-2d7071497c29",
   "metadata": {},
   "source": [
    "Multithreading in Python allows concurrent execution of multiple threads within a program. It is used to achieve parallelism, enabling tasks to run simultaneously and take advantage of multi-core processors or perform concurrent I/O operations. The `threading` module is commonly used to handle threads in Python, providing features for thread creation, synchronization, and coordination. Multithreading helps improve program responsiveness, enhances performance in certain scenarios, and maximizes resource utilization."
   ]
  },
  {
   "cell_type": "markdown",
   "id": "5a4f54fe-f405-4e55-926a-93418c8cbf05",
   "metadata": {},
   "source": [
    "Q.2"
   ]
  },
  {
   "cell_type": "markdown",
   "id": "1f4bd438-22c0-4480-98c6-a7e31b599543",
   "metadata": {},
   "source": [
    "The threading module in Python is used for creating and managing threads. It provides a high-level interface to work with threads and offers various functions and classes to control their behavior. Here's the use of the following functions in the threading module:"
   ]
  },
  {
   "cell_type": "markdown",
   "id": "90a07ba3-f1be-4f2d-9de4-1e06cba623b4",
   "metadata": {},
   "source": [
    "activeCount(): This function returns the number of Thread objects currently alive. It provides the count of active threads that are currently running or in a runnable state.\n"
   ]
  },
  {
   "cell_type": "code",
   "execution_count": 2,
   "id": "5385b5f6-39f6-4184-9058-7f73cdb1643c",
   "metadata": {},
   "outputs": [
    {
     "name": "stdout",
     "output_type": "stream",
     "text": [
      "Number of active threads: 8\n"
     ]
    },
    {
     "name": "stderr",
     "output_type": "stream",
     "text": [
      "/tmp/ipykernel_1104/2913348483.py:4: DeprecationWarning: activeCount() is deprecated, use active_count() instead\n",
      "  count = threading.activeCount()\n"
     ]
    }
   ],
   "source": [
    "import threading\n",
    "\n",
    "# Get the number of active threads\n",
    "count = threading.activeCount()\n",
    "print(\"Number of active threads:\", count)\n"
   ]
  },
  {
   "cell_type": "markdown",
   "id": "d1a2fb1e-83ee-4a93-8404-8917f6195673",
   "metadata": {},
   "source": [
    "currentThread(): This function returns the Thread object corresponding to the current thread of execution. It can be used to get information about the currently executing thread."
   ]
  },
  {
   "cell_type": "code",
   "execution_count": 3,
   "id": "3510b6a6-4ecc-4ff6-91be-1bcc13124330",
   "metadata": {},
   "outputs": [
    {
     "name": "stdout",
     "output_type": "stream",
     "text": [
      "Current thread: <_MainThread(MainThread, started 140591803402048)>\n"
     ]
    },
    {
     "name": "stderr",
     "output_type": "stream",
     "text": [
      "/tmp/ipykernel_1104/1865665364.py:4: DeprecationWarning: currentThread() is deprecated, use current_thread() instead\n",
      "  current_thread = threading.currentThread()\n"
     ]
    }
   ],
   "source": [
    "import threading\n",
    "\n",
    "# Get the current thread object\n",
    "current_thread = threading.currentThread()\n",
    "print(\"Current thread:\", current_thread)\n"
   ]
  },
  {
   "cell_type": "markdown",
   "id": "f35667d6-3795-4d2f-9d04-e6a8ca9e6d88",
   "metadata": {},
   "source": [
    "enumerate(): This function returns a list of all active Thread objects currently alive. It provides a way to get a list of all threads currently running or in a runnable state.\n"
   ]
  },
  {
   "cell_type": "code",
   "execution_count": 4,
   "id": "672bb76c-1082-437e-b465-1de4a4569a67",
   "metadata": {},
   "outputs": [
    {
     "name": "stdout",
     "output_type": "stream",
     "text": [
      "Active threads:\n",
      "<_MainThread(MainThread, started 140591803402048)>\n",
      "<Thread(IOPub, started daemon 140591660791360)>\n",
      "<Heartbeat(Heartbeat, started daemon 140591652398656)>\n",
      "<Thread(Thread-3 (_watch_pipe_fd), started daemon 140591627220544)>\n",
      "<Thread(Thread-4 (_watch_pipe_fd), started daemon 140591618827840)>\n",
      "<ControlThread(Control, started daemon 140591610435136)>\n",
      "<HistorySavingThread(IPythonHistorySavingThread, started 140591258138176)>\n",
      "<ParentPollerUnix(Thread-2, started daemon 140591249745472)>\n"
     ]
    }
   ],
   "source": [
    "import threading\n",
    "\n",
    "# Get a list of all active threads\n",
    "threads = threading.enumerate()\n",
    "print(\"Active threads:\")\n",
    "for thread in threads:\n",
    "    print(thread)\n"
   ]
  },
  {
   "cell_type": "markdown",
   "id": "d71c0df5-a370-49e3-9699-4a1d705ba27f",
   "metadata": {},
   "source": [
    "Q.3"
   ]
  },
  {
   "cell_type": "markdown",
   "id": "f93770d4-b05f-4c20-ab80-bfb911c2dc41",
   "metadata": {},
   "source": [
    "\n",
    "\n",
    "1. `run()`: Method to be overridden in a subclass, defining the code to be executed when the thread starts.\n",
    "2. `start()`: Function that starts the execution of a thread by creating a new thread and calling its `run()` method.\n",
    "3. `join()`: Function that waits for a thread to complete its execution before proceeding with the main program.\n",
    "4. `isAlive()`: Function that checks if a thread is currently running or in a runnable state. Returns `True` or `False`."
   ]
  },
  {
   "cell_type": "markdown",
   "id": "7336b4ce-684b-4ad4-ac3d-55560a298da3",
   "metadata": {},
   "source": [
    "Q.4"
   ]
  },
  {
   "cell_type": "code",
   "execution_count": null,
   "id": "ef586e92-f12c-4cbf-9411-c2307e749100",
   "metadata": {},
   "outputs": [],
   "source": [
    "import threading\n",
    "\n",
    "def print_squares():\n",
    "    squares=[x**2 for x in range(1,11)]\n",
    "    for square in squares:\n",
    "        print(\"square:\",sqaure)\n",
    "        \n",
    "def print_cubes():\n",
    "    cubes=[x**3 for x in range(1,11)]\n",
    "    for cube in cubes:\n",
    "        print(\"cube:\",cubes)\n",
    "        \n",
    "thread1=threading.Thread(target=print_squares)\n",
    "thread1=threading.Thread(target=print_squares)"
   ]
  },
  {
   "cell_type": "markdown",
   "id": "72870fd3-1f37-4667-9d46-20cbc3ca463e",
   "metadata": {},
   "source": [
    "Q.5"
   ]
  },
  {
   "cell_type": "markdown",
   "id": "2d950852-3f90-469e-b4b8-88173385d4fc",
   "metadata": {},
   "source": [
    "\n",
    "Advantages of multithreading:\n",
    "\n",
    "Increased performance: Multithreading can enhance performance by executing multiple tasks concurrently, taking advantage of available CPU cores and resources.\n",
    "\n",
    "Responsiveness: Multithreading can improve program responsiveness by allowing the main thread to handle user interactions while background tasks are executed in separate threads.\n",
    "\n",
    "Resource sharing: Threads can share data and resources within the same process, enabling efficient communication and coordination between different parts of a program.\n",
    "\n",
    "Simplified program structure: Multithreading can simplify the design and implementation of certain programs by breaking them down into smaller, more manageable threads that can execute independently."
   ]
  },
  {
   "cell_type": "markdown",
   "id": "0c47b2d0-cbd2-4437-9082-a5d76532a9e5",
   "metadata": {},
   "source": [
    "Disadvantages of multithreading:\n",
    "\n",
    "Complexity: Multithreading introduces complexity in terms of thread synchronization, coordination, and data sharing, which can lead to potential issues like race conditions, deadlocks, and thread interference.\n",
    "\n",
    "Debugging difficulties: Debugging multithreaded programs can be challenging due to the non-deterministic nature of thread execution and potential concurrency-related bugs.\n",
    "\n",
    "Increased memory usage: Each thread has its own stack, which consumes additional memory. Having too many threads or allocating excessive resources per thread can lead to high memory usage.\n",
    "\n",
    "Scalability limitations: Although multithreading can improve performance on multi-core processors, there are limits to scalability. As the number of threads increases, overhead due to thread management can reduce the overall performance gain."
   ]
  },
  {
   "cell_type": "markdown",
   "id": "9dd196a9-79db-4d10-8453-73c35479f90d",
   "metadata": {},
   "source": [
    "Q.6"
   ]
  },
  {
   "cell_type": "markdown",
   "id": "94121f66-3942-405c-bff7-11a8abc888e1",
   "metadata": {},
   "source": [
    "\n",
    "Deadlocks and race conditions are two common issues that can occur in multithreaded programs. \n",
    "\n",
    "Deadlocks:\n",
    "A deadlock is a situation where two or more threads are blocked indefinitely, each waiting for a resource that is held by another thread in the deadlock group. This results in a situation where none of the threads can proceed, leading to a program freeze or deadlock. Deadlocks usually occur due to the improper use of synchronization mechanisms, such as locks or semaphores, and can be challenging to debug and resolve."
   ]
  },
  {
   "cell_type": "markdown",
   "id": "ccc27ef5-2a56-40ad-9cd7-2805b4ee16b1",
   "metadata": {},
   "source": [
    "Race conditions:\n",
    "A race condition occurs when the behavior of a program depends on the relative timing or interleaving of multiple threads. It arises when two or more threads access shared data or resources concurrently, and the final outcome depends on the order of their execution. Race conditions can lead to unpredictable and incorrect results, as the threads may interfere with each other's data or produce inconsistent states. Proper synchronization techniques, like locks or atomic operations, are required to prevent race conditions.\n"
   ]
  },
  {
   "cell_type": "code",
   "execution_count": null,
   "id": "b3550445-a0fc-4307-b47d-037cf1bb3de0",
   "metadata": {},
   "outputs": [],
   "source": []
  }
 ],
 "metadata": {
  "kernelspec": {
   "display_name": "Python 3 (ipykernel)",
   "language": "python",
   "name": "python3"
  },
  "language_info": {
   "codemirror_mode": {
    "name": "ipython",
    "version": 3
   },
   "file_extension": ".py",
   "mimetype": "text/x-python",
   "name": "python",
   "nbconvert_exporter": "python",
   "pygments_lexer": "ipython3",
   "version": "3.10.8"
  }
 },
 "nbformat": 4,
 "nbformat_minor": 5
}
